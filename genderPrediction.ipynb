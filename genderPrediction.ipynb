{
 "cells": [
  {
   "cell_type": "code",
   "execution_count": 30,
   "metadata": {},
   "outputs": [],
   "source": [
    "import pandas as pd\n",
    "import numpy as np\n",
    "import matplotlib.pyplot as plt\n",
    "%matplotlib inline\n",
    "import seaborn as sns"
   ]
  },
  {
   "cell_type": "code",
   "execution_count": 31,
   "metadata": {},
   "outputs": [],
   "source": [
    "import keras"
   ]
  },
  {
   "cell_type": "code",
   "execution_count": 32,
   "metadata": {},
   "outputs": [],
   "source": [
    "from keras.preprocessing.image import ImageDataGenerator\n",
    "from keras.models import Sequential"
   ]
  },
  {
   "cell_type": "code",
   "execution_count": 33,
   "metadata": {},
   "outputs": [],
   "source": [
    "from keras.layers import Conv2D, MaxPooling2D, Dense, Flatten, BatchNormalization, Dropout, Activation\n",
    "from keras.optimizers import Adam, RMSprop "
   ]
  },
  {
   "cell_type": "code",
   "execution_count": 34,
   "metadata": {},
   "outputs": [],
   "source": [
    "import os"
   ]
  },
  {
   "cell_type": "code",
   "execution_count": 35,
   "metadata": {},
   "outputs": [],
   "source": [
    "num_classes = 2\n",
    "img_rows, img_cols = 48,48\n",
    "batch_size = 32"
   ]
  },
  {
   "cell_type": "code",
   "execution_count": 36,
   "metadata": {},
   "outputs": [],
   "source": [
    "train_data_dir = 'D:\\data\\gende_classi\\Training'\n",
    "validation_data_dir = 'D:\\data\\gende_classi\\Validation'"
   ]
  },
  {
   "cell_type": "code",
   "execution_count": 37,
   "metadata": {},
   "outputs": [],
   "source": [
    "train_datagen = ImageDataGenerator(\n",
    "                    rescale = 1./255,\n",
    "                    rotation_range = 30,\n",
    "                    shear_range = 0.3,\n",
    "                    zoom_range = 0.3,\n",
    "                    width_shift_range = 0.4,\n",
    "                    height_shift_range = 0.4,\n",
    "                    horizontal_flip = True,\n",
    "                    fill_mode ='nearest')"
   ]
  },
  {
   "cell_type": "code",
   "execution_count": 38,
   "metadata": {},
   "outputs": [],
   "source": [
    "validation_datagen = ImageDataGenerator(rescale = 1./255)"
   ]
  },
  {
   "cell_type": "code",
   "execution_count": 39,
   "metadata": {},
   "outputs": [
    {
     "name": "stdout",
     "output_type": "stream",
     "text": [
      "Found 47009 images belonging to 2 classes.\n"
     ]
    }
   ],
   "source": [
    "train_generator = train_datagen.flow_from_directory(\n",
    "                                                    train_data_dir,\n",
    "                                                    color_mode = 'grayscale',\n",
    "                                                    target_size = (img_rows,img_cols),\n",
    "                                                    batch_size = batch_size,\n",
    "                                                    class_mode = 'categorical',\n",
    "                                                    shuffle = True\n",
    "                                                    )"
   ]
  },
  {
   "cell_type": "code",
   "execution_count": 40,
   "metadata": {},
   "outputs": [
    {
     "name": "stdout",
     "output_type": "stream",
     "text": [
      "Found 11649 images belonging to 2 classes.\n"
     ]
    }
   ],
   "source": [
    "validation_generator = validation_datagen.flow_from_directory(\n",
    "                                                                validation_data_dir,\n",
    "                                                                color_mode = 'grayscale',\n",
    "                                                                target_size = (img_rows,img_cols),\n",
    "                                                                batch_size = batch_size,\n",
    "                                                                class_mode = 'categorical',\n",
    "                                                                shuffle = True \n",
    "                                                            ) "
   ]
  },
  {
   "cell_type": "code",
   "execution_count": 41,
   "metadata": {},
   "outputs": [],
   "source": [
    "model = Sequential()"
   ]
  },
  {
   "cell_type": "code",
   "execution_count": 42,
   "metadata": {},
   "outputs": [],
   "source": [
    "model.add(Conv2D(32,(3,3),padding='same', kernel_initializer = 'he_normal', input_shape=(img_rows,img_cols,1)))\n",
    "model.add(Activation('elu'))\n",
    "model.add(BatchNormalization())\n",
    "model.add(Conv2D(32,(3,3),padding='same',kernel_initializer = 'he_normal', input_shape=(img_rows,img_cols,1)))\n",
    "model.add(Activation('elu'))\n",
    "model.add(BatchNormalization())\n",
    "model.add(MaxPooling2D(pool_size=(2,2)))\n",
    "model.add(Dropout(0.2))"
   ]
  },
  {
   "cell_type": "code",
   "execution_count": 43,
   "metadata": {},
   "outputs": [],
   "source": [
    "model.add(Conv2D(64,(3,3),padding='same', kernel_initializer = 'he_normal'))\n",
    "model.add(Activation('elu'))\n",
    "model.add(BatchNormalization())\n",
    "model.add(Conv2D(64,(3,3),padding='Same', kernel_initializer = 'he_normal'))\n",
    "model.add(Activation('elu'))\n",
    "model.add(BatchNormalization())\n",
    "model.add(MaxPooling2D(pool_size=(2,2)))\n",
    "model.add(Dropout(0.2))"
   ]
  },
  {
   "cell_type": "code",
   "execution_count": 44,
   "metadata": {},
   "outputs": [],
   "source": [
    "model.add(Conv2D(128,(3,3),padding='same', kernel_initializer = 'he_normal'))\n",
    "model.add(Activation('elu'))\n",
    "model.add(BatchNormalization())\n",
    "model.add(Conv2D(128,(3,3),padding='same', kernel_initializer = 'he_normal'))\n",
    "model.add(Activation('elu'))\n",
    "model.add(BatchNormalization())\n",
    "model.add(MaxPooling2D(pool_size=(2,2)))\n",
    "model.add(Dropout(0.2))"
   ]
  },
  {
   "cell_type": "code",
   "execution_count": 45,
   "metadata": {},
   "outputs": [],
   "source": [
    "model.add(Conv2D(256,(3,3),padding='same', kernel_initializer = 'he_normal'))\n",
    "model.add(Activation('elu'))\n",
    "model.add(BatchNormalization())\n",
    "model.add(Conv2D(256,(3,3),padding='same', kernel_initializer = 'he_normal'))\n",
    "model.add(Activation('elu'))\n",
    "model.add(BatchNormalization())\n",
    "model.add(MaxPooling2D(pool_size=(2,2)))\n",
    "model.add(Dropout(0.2))"
   ]
  },
  {
   "cell_type": "code",
   "execution_count": 46,
   "metadata": {},
   "outputs": [],
   "source": [
    "model.add(Flatten())\n",
    "model.add(Dense(64,kernel_initializer='he_normal'))\n",
    "model.add(Activation('elu'))\n",
    "model.add(BatchNormalization())\n",
    "model.add(Dropout(0.5))"
   ]
  },
  {
   "cell_type": "code",
   "execution_count": 47,
   "metadata": {},
   "outputs": [],
   "source": [
    "model.add(Dense(64,kernel_initializer='he_normal'))\n",
    "model.add(Activation('elu'))\n",
    "model.add(BatchNormalization())\n",
    "model.add(Dropout(0.5))"
   ]
  },
  {
   "cell_type": "code",
   "execution_count": 48,
   "metadata": {},
   "outputs": [],
   "source": [
    "model.add(Dense(2,kernel_initializer = 'he_normal'))\n",
    "model.add(Activation('softmax'))"
   ]
  },
  {
   "cell_type": "code",
   "execution_count": 49,
   "metadata": {},
   "outputs": [
    {
     "name": "stdout",
     "output_type": "stream",
     "text": [
      "Model: \"sequential_2\"\n",
      "_________________________________________________________________\n",
      "Layer (type)                 Output Shape              Param #   \n",
      "=================================================================\n",
      "conv2d_9 (Conv2D)            (None, 48, 48, 32)        320       \n",
      "_________________________________________________________________\n",
      "activation_12 (Activation)   (None, 48, 48, 32)        0         \n",
      "_________________________________________________________________\n",
      "batch_normalization_11 (Batc (None, 48, 48, 32)        128       \n",
      "_________________________________________________________________\n",
      "conv2d_10 (Conv2D)           (None, 48, 48, 32)        9248      \n",
      "_________________________________________________________________\n",
      "activation_13 (Activation)   (None, 48, 48, 32)        0         \n",
      "_________________________________________________________________\n",
      "batch_normalization_12 (Batc (None, 48, 48, 32)        128       \n",
      "_________________________________________________________________\n",
      "max_pooling2d_5 (MaxPooling2 (None, 24, 24, 32)        0         \n",
      "_________________________________________________________________\n",
      "dropout_7 (Dropout)          (None, 24, 24, 32)        0         \n",
      "_________________________________________________________________\n",
      "conv2d_11 (Conv2D)           (None, 24, 24, 64)        18496     \n",
      "_________________________________________________________________\n",
      "activation_14 (Activation)   (None, 24, 24, 64)        0         \n",
      "_________________________________________________________________\n",
      "batch_normalization_13 (Batc (None, 24, 24, 64)        256       \n",
      "_________________________________________________________________\n",
      "conv2d_12 (Conv2D)           (None, 24, 24, 64)        36928     \n",
      "_________________________________________________________________\n",
      "activation_15 (Activation)   (None, 24, 24, 64)        0         \n",
      "_________________________________________________________________\n",
      "batch_normalization_14 (Batc (None, 24, 24, 64)        256       \n",
      "_________________________________________________________________\n",
      "max_pooling2d_6 (MaxPooling2 (None, 12, 12, 64)        0         \n",
      "_________________________________________________________________\n",
      "dropout_8 (Dropout)          (None, 12, 12, 64)        0         \n",
      "_________________________________________________________________\n",
      "conv2d_13 (Conv2D)           (None, 12, 12, 128)       73856     \n",
      "_________________________________________________________________\n",
      "activation_16 (Activation)   (None, 12, 12, 128)       0         \n",
      "_________________________________________________________________\n",
      "batch_normalization_15 (Batc (None, 12, 12, 128)       512       \n",
      "_________________________________________________________________\n",
      "conv2d_14 (Conv2D)           (None, 12, 12, 128)       147584    \n",
      "_________________________________________________________________\n",
      "activation_17 (Activation)   (None, 12, 12, 128)       0         \n",
      "_________________________________________________________________\n",
      "batch_normalization_16 (Batc (None, 12, 12, 128)       512       \n",
      "_________________________________________________________________\n",
      "max_pooling2d_7 (MaxPooling2 (None, 6, 6, 128)         0         \n",
      "_________________________________________________________________\n",
      "dropout_9 (Dropout)          (None, 6, 6, 128)         0         \n",
      "_________________________________________________________________\n",
      "conv2d_15 (Conv2D)           (None, 6, 6, 256)         295168    \n",
      "_________________________________________________________________\n",
      "activation_18 (Activation)   (None, 6, 6, 256)         0         \n",
      "_________________________________________________________________\n",
      "batch_normalization_17 (Batc (None, 6, 6, 256)         1024      \n",
      "_________________________________________________________________\n",
      "conv2d_16 (Conv2D)           (None, 6, 6, 256)         590080    \n",
      "_________________________________________________________________\n",
      "activation_19 (Activation)   (None, 6, 6, 256)         0         \n",
      "_________________________________________________________________\n",
      "batch_normalization_18 (Batc (None, 6, 6, 256)         1024      \n",
      "_________________________________________________________________\n",
      "max_pooling2d_8 (MaxPooling2 (None, 3, 3, 256)         0         \n",
      "_________________________________________________________________\n",
      "dropout_10 (Dropout)         (None, 3, 3, 256)         0         \n",
      "_________________________________________________________________\n",
      "flatten_2 (Flatten)          (None, 2304)              0         \n",
      "_________________________________________________________________\n",
      "dense_4 (Dense)              (None, 64)                147520    \n",
      "_________________________________________________________________\n",
      "activation_20 (Activation)   (None, 64)                0         \n",
      "_________________________________________________________________\n",
      "batch_normalization_19 (Batc (None, 64)                256       \n",
      "_________________________________________________________________\n",
      "dropout_11 (Dropout)         (None, 64)                0         \n",
      "_________________________________________________________________\n",
      "dense_5 (Dense)              (None, 64)                4160      \n",
      "_________________________________________________________________\n",
      "activation_21 (Activation)   (None, 64)                0         \n",
      "_________________________________________________________________\n",
      "batch_normalization_20 (Batc (None, 64)                256       \n",
      "_________________________________________________________________\n",
      "dropout_12 (Dropout)         (None, 64)                0         \n",
      "_________________________________________________________________\n",
      "dense_6 (Dense)              (None, 2)                 130       \n",
      "_________________________________________________________________\n",
      "activation_22 (Activation)   (None, 2)                 0         \n",
      "=================================================================\n",
      "Total params: 1,327,842\n",
      "Trainable params: 1,325,666\n",
      "Non-trainable params: 2,176\n",
      "_________________________________________________________________\n"
     ]
    }
   ],
   "source": [
    "model.summary()"
   ]
  },
  {
   "cell_type": "code",
   "execution_count": 50,
   "metadata": {},
   "outputs": [],
   "source": [
    "from keras.optimizers import Adam, RMSprop, SGD\n",
    "from keras.callbacks import ModelCheckpoint, EarlyStopping, ReduceLROnPlateau "
   ]
  },
  {
   "cell_type": "code",
   "execution_count": 51,
   "metadata": {},
   "outputs": [],
   "source": [
    "checkpoint = ModelCheckpoint('Gender_pred2.h5',\n",
    "                             monitor = 'val_loss',\n",
    "                             mode = 'min',\n",
    "                             save_best_only = True,\n",
    "                             verbose = 1)"
   ]
  },
  {
   "cell_type": "code",
   "execution_count": 52,
   "metadata": {},
   "outputs": [],
   "source": [
    "earlystop = EarlyStopping(monitor = 'val_loss',\n",
    "                          min_delta = 0,\n",
    "                          patience = 9,\n",
    "                          verbose = 1,\n",
    "                          restore_best_weights = True)"
   ]
  },
  {
   "cell_type": "code",
   "execution_count": 53,
   "metadata": {},
   "outputs": [],
   "source": [
    "reduce_lr =  ReduceLROnPlateau(monitor = 'val_loss',\n",
    "                               factor = 0.2,\n",
    "                               patience = 3,\n",
    "                               verbose = 1,\n",
    "                               min_delta = 0.0001)"
   ]
  },
  {
   "cell_type": "code",
   "execution_count": 54,
   "metadata": {},
   "outputs": [],
   "source": [
    "callbacks = [earlystop,checkpoint,reduce_lr]"
   ]
  },
  {
   "cell_type": "code",
   "execution_count": 55,
   "metadata": {},
   "outputs": [],
   "source": [
    "model.compile(optimizer =Adam(lr=0.001), loss='categorical_crossentropy', metrics=['accuracy'])"
   ]
  },
  {
   "cell_type": "code",
   "execution_count": 56,
   "metadata": {},
   "outputs": [],
   "source": [
    "epochs= 25\n",
    "batch_size = 32\n",
    "nb_train_samples = 47009\n",
    "nb_validation_samples = 11649"
   ]
  },
  {
   "cell_type": "code",
   "execution_count": 57,
   "metadata": {},
   "outputs": [
    {
     "name": "stdout",
     "output_type": "stream",
     "text": [
      "Epoch 1/25\n",
      "1469/1469 [==============================] - 2950s 2s/step - loss: 0.6013 - accuracy: 0.6847 - val_loss: 1.2969 - val_accuracy: 0.7043\n",
      "\n",
      "Epoch 00001: val_loss improved from inf to 1.29695, saving model to Gender_pred2.h5\n",
      "Epoch 2/25\n",
      "1469/1469 [==============================] - 2621s 2s/step - loss: 0.3376 - accuracy: 0.8577 - val_loss: 0.2312 - val_accuracy: 0.9367\n",
      "\n",
      "Epoch 00002: val_loss improved from 1.29695 to 0.23120, saving model to Gender_pred2.h5\n",
      "Epoch 3/25\n",
      "1469/1469 [==============================] - 3586s 2s/step - loss: 0.2807 - accuracy: 0.8870 - val_loss: 0.1985 - val_accuracy: 0.9179\n",
      "\n",
      "Epoch 00003: val_loss improved from 0.23120 to 0.19849, saving model to Gender_pred2.h5\n",
      "Epoch 4/25\n",
      "1469/1469 [==============================] - 3143s 2s/step - loss: 0.2550 - accuracy: 0.8987 - val_loss: 0.1040 - val_accuracy: 0.9451\n",
      "\n",
      "Epoch 00004: val_loss improved from 0.19849 to 0.10397, saving model to Gender_pred2.h5\n",
      "Epoch 5/25\n",
      "1469/1469 [==============================] - 6279s 4s/step - loss: 0.2391 - accuracy: 0.9065 - val_loss: 0.0600 - val_accuracy: 0.9558\n",
      "\n",
      "Epoch 00005: val_loss improved from 0.10397 to 0.05998, saving model to Gender_pred2.h5\n",
      "Epoch 6/25\n",
      "1469/1469 [==============================] - 2731s 2s/step - loss: 0.2254 - accuracy: 0.9136 - val_loss: 0.1022 - val_accuracy: 0.9604\n",
      "\n",
      "Epoch 00006: val_loss did not improve from 0.05998\n",
      "Epoch 7/25\n",
      "1469/1469 [==============================] - 2736s 2s/step - loss: 0.2139 - accuracy: 0.9201 - val_loss: 0.0536 - val_accuracy: 0.9552\n",
      "\n",
      "Epoch 00007: val_loss improved from 0.05998 to 0.05357, saving model to Gender_pred2.h5\n",
      "Epoch 8/25\n",
      "1469/1469 [==============================] - 2738s 2s/step - loss: 0.2110 - accuracy: 0.9210 - val_loss: 0.1617 - val_accuracy: 0.9560\n",
      "\n",
      "Epoch 00008: val_loss did not improve from 0.05357\n",
      "Epoch 9/25\n",
      "1469/1469 [==============================] - 2725s 2s/step - loss: 0.2025 - accuracy: 0.9240 - val_loss: 0.2555 - val_accuracy: 0.9662\n",
      "\n",
      "Epoch 00009: val_loss did not improve from 0.05357\n",
      "Epoch 10/25\n",
      "1469/1469 [==============================] - 2742s 2s/step - loss: 0.1950 - accuracy: 0.9287 - val_loss: 0.2655 - val_accuracy: 0.9584\n",
      "\n",
      "Epoch 00010: val_loss did not improve from 0.05357\n",
      "\n",
      "Epoch 00010: ReduceLROnPlateau reducing learning rate to 0.00020000000949949026.\n",
      "Epoch 11/25\n",
      "1469/1469 [==============================] - 2734s 2s/step - loss: 0.1797 - accuracy: 0.9353 - val_loss: 0.1068 - val_accuracy: 0.9669\n",
      "\n",
      "Epoch 00011: val_loss did not improve from 0.05357\n",
      "Epoch 12/25\n",
      "1469/1469 [==============================] - 2660s 2s/step - loss: 0.1734 - accuracy: 0.9373 - val_loss: 0.0063 - val_accuracy: 0.9674\n",
      "\n",
      "Epoch 00012: val_loss improved from 0.05357 to 0.00632, saving model to Gender_pred2.h5\n",
      "Epoch 13/25\n",
      "1469/1469 [==============================] - 2982s 2s/step - loss: 0.1687 - accuracy: 0.9397 - val_loss: 0.1360 - val_accuracy: 0.9664\n",
      "\n",
      "Epoch 00013: val_loss did not improve from 0.00632\n",
      "Epoch 14/25\n",
      "1469/1469 [==============================] - 3100s 2s/step - loss: 0.1677 - accuracy: 0.9412 - val_loss: 0.2435 - val_accuracy: 0.9680\n",
      "\n",
      "Epoch 00014: val_loss did not improve from 0.00632\n",
      "Epoch 15/25\n",
      "1469/1469 [==============================] - 2877s 2s/step - loss: 0.1669 - accuracy: 0.9406 - val_loss: 0.0509 - val_accuracy: 0.9687\n",
      "\n",
      "Epoch 00015: val_loss did not improve from 0.00632\n",
      "\n",
      "Epoch 00015: ReduceLROnPlateau reducing learning rate to 4.0000001899898055e-05.\n",
      "Epoch 16/25\n",
      "1469/1469 [==============================] - 2722s 2s/step - loss: 0.1614 - accuracy: 0.9433 - val_loss: 0.0971 - val_accuracy: 0.9687\n",
      "\n",
      "Epoch 00016: val_loss did not improve from 0.00632\n",
      "Epoch 17/25\n",
      "1469/1469 [==============================] - 2702s 2s/step - loss: 0.1627 - accuracy: 0.9444 - val_loss: 0.0536 - val_accuracy: 0.9693\n",
      "\n",
      "Epoch 00017: val_loss did not improve from 0.00632\n",
      "Epoch 18/25\n",
      "1469/1469 [==============================] - 2687s 2s/step - loss: 0.1605 - accuracy: 0.9435 - val_loss: 0.0099 - val_accuracy: 0.9683\n",
      "\n",
      "Epoch 00018: val_loss did not improve from 0.00632\n",
      "\n",
      "Epoch 00018: ReduceLROnPlateau reducing learning rate to 8.000000525498762e-06.\n",
      "Epoch 19/25\n",
      "1469/1469 [==============================] - 2715s 2s/step - loss: 0.1578 - accuracy: 0.9454 - val_loss: 0.0117 - val_accuracy: 0.9694\n",
      "\n",
      "Epoch 00019: val_loss did not improve from 0.00632\n",
      "Epoch 20/25\n",
      "1469/1469 [==============================] - 2697s 2s/step - loss: 0.1592 - accuracy: 0.9444 - val_loss: 0.0613 - val_accuracy: 0.9690\n",
      "\n",
      "Epoch 00020: val_loss did not improve from 0.00632\n",
      "Epoch 21/25\n",
      "1469/1469 [==============================] - 2714s 2s/step - loss: 0.1598 - accuracy: 0.9439 - val_loss: 0.0436 - val_accuracy: 0.9686\n",
      "Restoring model weights from the end of the best epoch\n",
      "\n",
      "Epoch 00021: val_loss did not improve from 0.00632\n",
      "\n",
      "Epoch 00021: ReduceLROnPlateau reducing learning rate to 1.6000001778593287e-06.\n",
      "Epoch 00021: early stopping\n"
     ]
    }
   ],
   "source": [
    "history = model.fit_generator(train_generator,\n",
    "                              steps_per_epoch= nb_train_samples // batch_size,\n",
    "                              epochs = epochs,\n",
    "                              callbacks = callbacks,\n",
    "                              validation_data = validation_generator,\n",
    "                              validation_steps= nb_validation_samples // batch_size)"
   ]
  },
  {
   "cell_type": "code",
   "execution_count": null,
   "metadata": {},
   "outputs": [],
   "source": []
  }
 ],
 "metadata": {
  "kernelspec": {
   "display_name": "Python 3",
   "language": "python",
   "name": "python3"
  },
  "language_info": {
   "codemirror_mode": {
    "name": "ipython",
    "version": 3
   },
   "file_extension": ".py",
   "mimetype": "text/x-python",
   "name": "python",
   "nbconvert_exporter": "python",
   "pygments_lexer": "ipython3",
   "version": "3.7.3"
  }
 },
 "nbformat": 4,
 "nbformat_minor": 2
}
